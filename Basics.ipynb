{
 "cells": [
  {
   "cell_type": "code",
   "execution_count": 5,
   "metadata": {},
   "outputs": [
    {
     "name": "stdout",
     "output_type": "stream",
     "text": [
      "enter principle400\n",
      "enter rate2\n",
      "enter time2\n",
      "compound ineterest is 416.15999999999997\n"
     ]
    }
   ],
   "source": [
    "#coumpound interest\n",
    "\n",
    "p = int(input(\"enter principle\"))\n",
    "r= int(input(\"enter rate\"))\n",
    "t = int(input(\"enter time\"))\n",
    "\n",
    "CI = p*pow(1+r/100,t)\n",
    "print(\"compound ineterest is\",CI)"
   ]
  },
  {
   "cell_type": "code",
   "execution_count": 7,
   "metadata": {},
   "outputs": [
    {
     "name": "stdout",
     "output_type": "stream",
     "text": [
      "enter radius3\n",
      "area is 28.259999999999998\n"
     ]
    }
   ],
   "source": [
    "#area of circle\n",
    "r = int(input(\"enter radius\"))\n",
    "area = 3.14*r*r\n",
    "print(\"area is\", area)"
   ]
  },
  {
   "cell_type": "code",
   "execution_count": 22,
   "metadata": {},
   "outputs": [
    {
     "name": "stdout",
     "output_type": "stream",
     "text": [
      "enter both the numbers4 9\n",
      "5\n",
      "5\n",
      "5\n",
      "7\n",
      "7\n",
      "7\n",
      "7\n",
      "7\n",
      "9\n"
     ]
    }
   ],
   "source": [
    "#to print all the prime numbers between a given range\n",
    "num1, num2 = input(\"enter both the numbers\").split()\n",
    "for i in range(int(num1),int(num2)+1):\n",
    "    if (i>1):\n",
    "        for j in range(2, i):\n",
    "            if(i%j == 0):\n",
    "                break\n",
    "            else:\n",
    "                print (i)"
   ]
  },
  {
   "cell_type": "code",
   "execution_count": 26,
   "metadata": {},
   "outputs": [
    {
     "name": "stdout",
     "output_type": "stream",
     "text": [
      "11\n",
      "13\n",
      "17\n",
      "19\n",
      "23\n"
     ]
    }
   ],
   "source": [
    "start = 11\n",
    "end = 25\n",
    "for val in range(start, end + 1):\n",
    "\n",
    "# If num is divisible by any number\n",
    "# between 2 and val, it is not prime\n",
    "    if val > 1:\n",
    "        for n in range(2, val):\n",
    "            if (val % n) == 0:\n",
    "                break\n",
    "        else:\n",
    "                print(val)"
   ]
  },
  {
   "cell_type": "code",
   "execution_count": 37,
   "metadata": {},
   "outputs": [
    {
     "name": "stdout",
     "output_type": "stream",
     "text": [
      "enter number5\n",
      "is prime\n"
     ]
    }
   ],
   "source": [
    "num = int(input(\"enter number\"))\n",
    "if(num<=1):\n",
    "    print(1) \n",
    "else:\n",
    "    for i in range(2, num):\n",
    "        if(num%i == 0):\n",
    "            print(\"not prime\")\n",
    "            break\n",
    "    else:\n",
    "        print(\"is prime\")"
   ]
  },
  {
   "cell_type": "code",
   "execution_count": 39,
   "metadata": {},
   "outputs": [
    {
     "name": "stdout",
     "output_type": "stream",
     "text": [
      "enter number4\n",
      "2.0\n"
     ]
    }
   ],
   "source": [
    "#to calculate square root\n",
    "num = int(input(\"enter number\"))\n",
    "print(pow(num,0.5))"
   ]
  },
  {
   "cell_type": "code",
   "execution_count": 41,
   "metadata": {},
   "outputs": [
    {
     "name": "stdout",
     "output_type": "stream",
     "text": [
      "enter sides4 7 9\n",
      "the area is 13.416407864998739\n"
     ]
    }
   ],
   "source": [
    "#perimeter of triange\n",
    "a,b,c = [int(x) for x in input(\"enter sides\").split()]\n",
    "#calculating semiperimeter\n",
    "s = (a+b+c)/2\n",
    "print(\"the area is\",pow((s*(s-a)*(s-b)*(s-c)),0.5))\n"
   ]
  },
  {
   "cell_type": "code",
   "execution_count": 47,
   "metadata": {},
   "outputs": [
    {
     "name": "stdout",
     "output_type": "stream",
     "text": [
      "enter 3 numbers3 7 89\n",
      "89 is greatest\n"
     ]
    }
   ],
   "source": [
    "#largest among three numbers\n",
    "a,b,c = [int(x) for x in input(\"enter 3 numbers\").split()]\n",
    "if(a>b and a>c):\n",
    "    print(\"{0} is greatest\".format(a))\n",
    "elif(b>a and b>c):\n",
    "    print(\"{0} is greatest\".format(b))\n",
    "else:\n",
    "    print(\"%d is greatest\"%(c))"
   ]
  },
  {
   "cell_type": "code",
   "execution_count": null,
   "metadata": {},
   "outputs": [],
   "source": []
  },
  {
   "cell_type": "code",
   "execution_count": null,
   "metadata": {},
   "outputs": [],
   "source": []
  }
 ],
 "metadata": {
  "kernelspec": {
   "display_name": "Python 3",
   "language": "python",
   "name": "python3"
  },
  "language_info": {
   "codemirror_mode": {
    "name": "ipython",
    "version": 3
   },
   "file_extension": ".py",
   "mimetype": "text/x-python",
   "name": "python",
   "nbconvert_exporter": "python",
   "pygments_lexer": "ipython3",
   "version": "3.7.4"
  }
 },
 "nbformat": 4,
 "nbformat_minor": 2
}
